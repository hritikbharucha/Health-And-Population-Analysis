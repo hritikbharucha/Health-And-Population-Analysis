{
 "cells": [
  {
   "cell_type": "code",
   "execution_count": 250,
   "id": "2639b12b",
   "metadata": {},
   "outputs": [],
   "source": [
    "import numpy as np\n",
    "import pandas as pd\n",
    "import matplotlib.pyplot as plt\n",
    "import warnings\n",
    "from sklearn.metrics import r2_score\n",
    "import seaborn as sns\n",
    "import math"
   ]
  },
  {
   "cell_type": "code",
   "execution_count": 251,
   "id": "ae93fe4e",
   "metadata": {},
   "outputs": [],
   "source": [
    "dataset = pd.read_csv(\"data.csv\")"
   ]
  },
  {
   "cell_type": "code",
   "execution_count": 252,
   "id": "b1938d0d",
   "metadata": {},
   "outputs": [
    {
     "data": {
      "text/html": [
       "<div>\n",
       "<style scoped>\n",
       "    .dataframe tbody tr th:only-of-type {\n",
       "        vertical-align: middle;\n",
       "    }\n",
       "\n",
       "    .dataframe tbody tr th {\n",
       "        vertical-align: top;\n",
       "    }\n",
       "\n",
       "    .dataframe thead th {\n",
       "        text-align: right;\n",
       "    }\n",
       "</style>\n",
       "<table border=\"1\" class=\"dataframe\">\n",
       "  <thead>\n",
       "    <tr style=\"text-align: right;\">\n",
       "      <th></th>\n",
       "      <th>Country Name</th>\n",
       "      <th>Country Code</th>\n",
       "      <th>Indicator Name</th>\n",
       "      <th>Indicator Code</th>\n",
       "      <th>1960</th>\n",
       "      <th>1961</th>\n",
       "      <th>1962</th>\n",
       "      <th>1963</th>\n",
       "      <th>1964</th>\n",
       "      <th>1965</th>\n",
       "      <th>...</th>\n",
       "      <th>2007</th>\n",
       "      <th>2008</th>\n",
       "      <th>2009</th>\n",
       "      <th>2010</th>\n",
       "      <th>2011</th>\n",
       "      <th>2012</th>\n",
       "      <th>2013</th>\n",
       "      <th>2014</th>\n",
       "      <th>2015</th>\n",
       "      <th>Unnamed: 60</th>\n",
       "    </tr>\n",
       "  </thead>\n",
       "  <tbody>\n",
       "    <tr>\n",
       "      <th>0</th>\n",
       "      <td>Arab World</td>\n",
       "      <td>ARB</td>\n",
       "      <td>% of females ages 15-49 having comprehensive c...</td>\n",
       "      <td>SH.HIV.KNOW.FE.ZS</td>\n",
       "      <td>NaN</td>\n",
       "      <td>NaN</td>\n",
       "      <td>NaN</td>\n",
       "      <td>NaN</td>\n",
       "      <td>NaN</td>\n",
       "      <td>NaN</td>\n",
       "      <td>...</td>\n",
       "      <td>NaN</td>\n",
       "      <td>NaN</td>\n",
       "      <td>NaN</td>\n",
       "      <td>NaN</td>\n",
       "      <td>NaN</td>\n",
       "      <td>NaN</td>\n",
       "      <td>NaN</td>\n",
       "      <td>NaN</td>\n",
       "      <td>NaN</td>\n",
       "      <td>NaN</td>\n",
       "    </tr>\n",
       "    <tr>\n",
       "      <th>1</th>\n",
       "      <td>Arab World</td>\n",
       "      <td>ARB</td>\n",
       "      <td>% of males ages 15-49 having comprehensive cor...</td>\n",
       "      <td>SH.HIV.KNOW.MA.ZS</td>\n",
       "      <td>NaN</td>\n",
       "      <td>NaN</td>\n",
       "      <td>NaN</td>\n",
       "      <td>NaN</td>\n",
       "      <td>NaN</td>\n",
       "      <td>NaN</td>\n",
       "      <td>...</td>\n",
       "      <td>NaN</td>\n",
       "      <td>NaN</td>\n",
       "      <td>NaN</td>\n",
       "      <td>NaN</td>\n",
       "      <td>NaN</td>\n",
       "      <td>NaN</td>\n",
       "      <td>NaN</td>\n",
       "      <td>NaN</td>\n",
       "      <td>NaN</td>\n",
       "      <td>NaN</td>\n",
       "    </tr>\n",
       "    <tr>\n",
       "      <th>2</th>\n",
       "      <td>Arab World</td>\n",
       "      <td>ARB</td>\n",
       "      <td>Adolescent fertility rate (births per 1,000 wo...</td>\n",
       "      <td>SP.ADO.TFRT</td>\n",
       "      <td>133.555013</td>\n",
       "      <td>134.159119</td>\n",
       "      <td>134.857912</td>\n",
       "      <td>134.504576</td>\n",
       "      <td>134.105211</td>\n",
       "      <td>133.569626</td>\n",
       "      <td>...</td>\n",
       "      <td>49.999851</td>\n",
       "      <td>49.887046</td>\n",
       "      <td>49.781207</td>\n",
       "      <td>49.672975</td>\n",
       "      <td>49.536047</td>\n",
       "      <td>49.383745</td>\n",
       "      <td>48.796558</td>\n",
       "      <td>48.196418</td>\n",
       "      <td>NaN</td>\n",
       "      <td>NaN</td>\n",
       "    </tr>\n",
       "    <tr>\n",
       "      <th>3</th>\n",
       "      <td>Arab World</td>\n",
       "      <td>ARB</td>\n",
       "      <td>Adults (ages 15+) and children (0-14 years) li...</td>\n",
       "      <td>SH.HIV.TOTL</td>\n",
       "      <td>NaN</td>\n",
       "      <td>NaN</td>\n",
       "      <td>NaN</td>\n",
       "      <td>NaN</td>\n",
       "      <td>NaN</td>\n",
       "      <td>NaN</td>\n",
       "      <td>...</td>\n",
       "      <td>NaN</td>\n",
       "      <td>NaN</td>\n",
       "      <td>NaN</td>\n",
       "      <td>NaN</td>\n",
       "      <td>NaN</td>\n",
       "      <td>NaN</td>\n",
       "      <td>NaN</td>\n",
       "      <td>NaN</td>\n",
       "      <td>NaN</td>\n",
       "      <td>NaN</td>\n",
       "    </tr>\n",
       "    <tr>\n",
       "      <th>4</th>\n",
       "      <td>Arab World</td>\n",
       "      <td>ARB</td>\n",
       "      <td>Adults (ages 15+) and children (ages 0-14) new...</td>\n",
       "      <td>SH.HIV.INCD.TL</td>\n",
       "      <td>NaN</td>\n",
       "      <td>NaN</td>\n",
       "      <td>NaN</td>\n",
       "      <td>NaN</td>\n",
       "      <td>NaN</td>\n",
       "      <td>NaN</td>\n",
       "      <td>...</td>\n",
       "      <td>NaN</td>\n",
       "      <td>NaN</td>\n",
       "      <td>NaN</td>\n",
       "      <td>NaN</td>\n",
       "      <td>NaN</td>\n",
       "      <td>NaN</td>\n",
       "      <td>NaN</td>\n",
       "      <td>NaN</td>\n",
       "      <td>NaN</td>\n",
       "      <td>NaN</td>\n",
       "    </tr>\n",
       "  </tbody>\n",
       "</table>\n",
       "<p>5 rows × 61 columns</p>\n",
       "</div>"
      ],
      "text/plain": [
       "  Country Name Country Code  \\\n",
       "0   Arab World          ARB   \n",
       "1   Arab World          ARB   \n",
       "2   Arab World          ARB   \n",
       "3   Arab World          ARB   \n",
       "4   Arab World          ARB   \n",
       "\n",
       "                                      Indicator Name     Indicator Code  \\\n",
       "0  % of females ages 15-49 having comprehensive c...  SH.HIV.KNOW.FE.ZS   \n",
       "1  % of males ages 15-49 having comprehensive cor...  SH.HIV.KNOW.MA.ZS   \n",
       "2  Adolescent fertility rate (births per 1,000 wo...        SP.ADO.TFRT   \n",
       "3  Adults (ages 15+) and children (0-14 years) li...        SH.HIV.TOTL   \n",
       "4  Adults (ages 15+) and children (ages 0-14) new...     SH.HIV.INCD.TL   \n",
       "\n",
       "         1960        1961        1962        1963        1964        1965  \\\n",
       "0         NaN         NaN         NaN         NaN         NaN         NaN   \n",
       "1         NaN         NaN         NaN         NaN         NaN         NaN   \n",
       "2  133.555013  134.159119  134.857912  134.504576  134.105211  133.569626   \n",
       "3         NaN         NaN         NaN         NaN         NaN         NaN   \n",
       "4         NaN         NaN         NaN         NaN         NaN         NaN   \n",
       "\n",
       "   ...       2007       2008       2009       2010       2011       2012  \\\n",
       "0  ...        NaN        NaN        NaN        NaN        NaN        NaN   \n",
       "1  ...        NaN        NaN        NaN        NaN        NaN        NaN   \n",
       "2  ...  49.999851  49.887046  49.781207  49.672975  49.536047  49.383745   \n",
       "3  ...        NaN        NaN        NaN        NaN        NaN        NaN   \n",
       "4  ...        NaN        NaN        NaN        NaN        NaN        NaN   \n",
       "\n",
       "        2013       2014  2015  Unnamed: 60  \n",
       "0        NaN        NaN   NaN          NaN  \n",
       "1        NaN        NaN   NaN          NaN  \n",
       "2  48.796558  48.196418   NaN          NaN  \n",
       "3        NaN        NaN   NaN          NaN  \n",
       "4        NaN        NaN   NaN          NaN  \n",
       "\n",
       "[5 rows x 61 columns]"
      ]
     },
     "execution_count": 252,
     "metadata": {},
     "output_type": "execute_result"
    }
   ],
   "source": [
    "dataset.head()"
   ]
  },
  {
   "cell_type": "code",
   "execution_count": 253,
   "id": "89412007",
   "metadata": {},
   "outputs": [
    {
     "data": {
      "text/html": [
       "<div>\n",
       "<style scoped>\n",
       "    .dataframe tbody tr th:only-of-type {\n",
       "        vertical-align: middle;\n",
       "    }\n",
       "\n",
       "    .dataframe tbody tr th {\n",
       "        vertical-align: top;\n",
       "    }\n",
       "\n",
       "    .dataframe thead th {\n",
       "        text-align: right;\n",
       "    }\n",
       "</style>\n",
       "<table border=\"1\" class=\"dataframe\">\n",
       "  <thead>\n",
       "    <tr style=\"text-align: right;\">\n",
       "      <th></th>\n",
       "      <th>country_name</th>\n",
       "      <th>population_total</th>\n",
       "      <th>health_expenditure</th>\n",
       "      <th>birth_rate</th>\n",
       "      <th>death_rate</th>\n",
       "      <th>hiv_prevalence</th>\n",
       "      <th>people_undernourished</th>\n",
       "      <th>improved_sanitation</th>\n",
       "      <th>improved_water</th>\n",
       "    </tr>\n",
       "  </thead>\n",
       "  <tbody>\n",
       "    <tr>\n",
       "      <th>0</th>\n",
       "      <td>Arab World</td>\n",
       "      <td>217321665.821429</td>\n",
       "      <td>178.956226</td>\n",
       "      <td>36.556973</td>\n",
       "      <td>10.384294</td>\n",
       "      <td>0.134146</td>\n",
       "      <td>16072000.0</td>\n",
       "      <td>74.40047</td>\n",
       "      <td>83.764234</td>\n",
       "    </tr>\n",
       "    <tr>\n",
       "      <th>1</th>\n",
       "      <td>Caribbean small states</td>\n",
       "      <td>5783630.321429</td>\n",
       "      <td>376.506084</td>\n",
       "      <td>26.40459</td>\n",
       "      <td>7.638112</td>\n",
       "      <td>1.460872</td>\n",
       "      <td>784000.0</td>\n",
       "      <td>83.949645</td>\n",
       "      <td>93.079706</td>\n",
       "    </tr>\n",
       "    <tr>\n",
       "      <th>2</th>\n",
       "      <td>Central Europe and the Baltics</td>\n",
       "      <td>104477717.267857</td>\n",
       "      <td>557.86304</td>\n",
       "      <td>13.976133</td>\n",
       "      <td>10.558487</td>\n",
       "      <td>NaN</td>\n",
       "      <td>NaN</td>\n",
       "      <td>89.846954</td>\n",
       "      <td>95.727317</td>\n",
       "    </tr>\n",
       "    <tr>\n",
       "      <th>3</th>\n",
       "      <td>Early-demographic dividend</td>\n",
       "      <td>1960044504.642857</td>\n",
       "      <td>103.16664</td>\n",
       "      <td>33.164735</td>\n",
       "      <td>11.484921</td>\n",
       "      <td>NaN</td>\n",
       "      <td>439496000.0</td>\n",
       "      <td>46.446371</td>\n",
       "      <td>82.340853</td>\n",
       "    </tr>\n",
       "    <tr>\n",
       "      <th>4</th>\n",
       "      <td>East Asia &amp; Pacific</td>\n",
       "      <td>1717731046.714286</td>\n",
       "      <td>361.392334</td>\n",
       "      <td>22.397334</td>\n",
       "      <td>7.930555</td>\n",
       "      <td>NaN</td>\n",
       "      <td>324168000.0</td>\n",
       "      <td>65.219906</td>\n",
       "      <td>83.855811</td>\n",
       "    </tr>\n",
       "  </tbody>\n",
       "</table>\n",
       "</div>"
      ],
      "text/plain": [
       "                     country_name   population_total health_expenditure  \\\n",
       "0                      Arab World   217321665.821429         178.956226   \n",
       "1          Caribbean small states     5783630.321429         376.506084   \n",
       "2  Central Europe and the Baltics   104477717.267857          557.86304   \n",
       "3      Early-demographic dividend  1960044504.642857          103.16664   \n",
       "4             East Asia & Pacific  1717731046.714286         361.392334   \n",
       "\n",
       "  birth_rate death_rate hiv_prevalence people_undernourished  \\\n",
       "0  36.556973  10.384294       0.134146            16072000.0   \n",
       "1   26.40459   7.638112       1.460872              784000.0   \n",
       "2  13.976133  10.558487            NaN                   NaN   \n",
       "3  33.164735  11.484921            NaN           439496000.0   \n",
       "4  22.397334   7.930555            NaN           324168000.0   \n",
       "\n",
       "  improved_sanitation improved_water  \n",
       "0            74.40047      83.764234  \n",
       "1           83.949645      93.079706  \n",
       "2           89.846954      95.727317  \n",
       "3           46.446371      82.340853  \n",
       "4           65.219906      83.855811  "
      ]
     },
     "execution_count": 253,
     "metadata": {},
     "output_type": "execute_result"
    }
   ],
   "source": [
    "# create dataframes for health expenditures, birth rate, death rate, \n",
    "# hiv prevalence ($ of population ages 15-49), number of people undernourished, \n",
    "# improved sanitation facilities (% of population with access),  \n",
    "# improved water source (% of population with access),\n",
    "\n",
    "countries = []\n",
    "health_expenditures = []\n",
    "birth_rates = []\n",
    "death_rates = []\n",
    "hiv_prevalence = []\n",
    "undernourished = []\n",
    "improved_sanitation = []\n",
    "improved_water = []\n",
    "population_totals = []\n",
    "\n",
    "years = range(1960,2016)\n",
    "\n",
    "index = 0\n",
    "\n",
    "for country in dataset['Country Name']:\n",
    "    if dataset[\"Indicator Code\"][index] == \"SH.XPD.PCAP\":\n",
    "        countries.append(country)\n",
    "        all_health_expenditures = []\n",
    "        for year in years:\n",
    "            all_health_expenditures.append(dataset[str(year)][index])\n",
    "        health_expenditures.append(np.nanmean(all_health_expenditures))\n",
    "    elif dataset[\"Indicator Code\"][index] == \"SP.DYN.CBRT.IN\":\n",
    "        all_birth_rates = []\n",
    "        for year in years:\n",
    "            all_birth_rates.append(dataset[str(year)][index])\n",
    "        birth_rates.append(np.nanmean(all_birth_rates))\n",
    "    elif dataset[\"Indicator Code\"][index] == \"SP.DYN.CDRT.IN\":\n",
    "        all_death_rates = []\n",
    "        for year in years:\n",
    "            all_death_rates.append(dataset[str(year)][index])\n",
    "        death_rates.append(np.nanmean(all_death_rates))\n",
    "    elif dataset[\"Indicator Code\"][index] == \"SH.DYN.AIDS.ZS\":\n",
    "        all_hiv = []\n",
    "        for year in years:\n",
    "            all_hiv.append(dataset[str(year)][index])\n",
    "        hiv_prevalence.append(np.nanmean(all_hiv))\n",
    "    elif dataset[\"Indicator Code\"][index] == \"SN.ITK.DEFC\":\n",
    "        all_undernourished = []\n",
    "        for year in years:\n",
    "            all_undernourished.append(dataset[str(year)][index])\n",
    "        undernourished.append(np.nanmean(all_undernourished))\n",
    "    elif dataset[\"Indicator Code\"][index] == \"SH.STA.ACSN\":\n",
    "        all_improved_sanitation = []\n",
    "        for year in years:\n",
    "            all_improved_sanitation.append(dataset[str(year)][index])\n",
    "        improved_sanitation.append(np.nanmean(all_improved_sanitation))\n",
    "    elif dataset[\"Indicator Code\"][index] == \"SH.H2O.SAFE.ZS\":\n",
    "        all_improved_water = []\n",
    "        for year in years:\n",
    "            all_improved_water.append(dataset[str(year)][index])\n",
    "        improved_water.append(np.nanmean(all_improved_water))\n",
    "    elif dataset[\"Indicator Code\"][index] == \"SP.POP.TOTL\":\n",
    "        all_populations = []\n",
    "        for year in years:\n",
    "            all_populations.append(dataset[str(year)][index])\n",
    "        population_totals.append(np.nanmean(all_populations))\n",
    "    index += 1\n",
    "\n",
    "warnings.filterwarnings(action='ignore', category=RuntimeWarning)\n",
    "    \n",
    "rows = range(len(countries))\n",
    "columns = [\"country_name\",\"population_total\",\"health_expenditure\",\"birth_rate\",\"death_rate\",\"hiv_prevalence\",\"people_undernourished\",\"improved_sanitation\",\"improved_water\"]\n",
    "data = [countries,population_totals,health_expenditures,birth_rates,death_rates,hiv_prevalence,undernourished,improved_sanitation,improved_water]\n",
    "\n",
    "dataframe = pd.DataFrame(data,index=columns,columns=rows)\n",
    "transposed_dataframe = dataframe.transpose()\n",
    "transposed_dataframe.head()"
   ]
  },
  {
   "cell_type": "code",
   "execution_count": 261,
   "id": "ac34e157",
   "metadata": {},
   "outputs": [
    {
     "data": {
      "text/plain": [
       "country_name               0\n",
       "population_total           0\n",
       "health_expenditure        27\n",
       "birth_rate                 6\n",
       "death_rate                 6\n",
       "hiv_prevalence           135\n",
       "people_undernourished    115\n",
       "improved_sanitation       15\n",
       "improved_water            14\n",
       "dtype: int64"
      ]
     },
     "execution_count": 261,
     "metadata": {},
     "output_type": "execute_result"
    }
   ],
   "source": [
    "transposed_dataframe.isnull().sum()"
   ]
  },
  {
   "cell_type": "code",
   "execution_count": 262,
   "id": "69267c47",
   "metadata": {},
   "outputs": [],
   "source": [
    "transposed_dataframe['health_expenditure'].fillna(transposed_dataframe['health_expenditure'].mean(),inplace=True)\n",
    "transposed_dataframe['birth_rate'].fillna(transposed_dataframe['birth_rate'].mean(),inplace=True)\n",
    "transposed_dataframe['death_rate'].fillna(transposed_dataframe['death_rate'].mean(),inplace=True)\n",
    "transposed_dataframe['hiv_prevalence'].fillna(transposed_dataframe['hiv_prevalence'].mean(),inplace=True)\n",
    "transposed_dataframe['people_undernourished'].fillna(transposed_dataframe['people_undernourished'].mean(),inplace=True)\n",
    "transposed_dataframe['improved_sanitation'].fillna(transposed_dataframe['improved_sanitation'].mean(),inplace=True)\n",
    "transposed_dataframe['improved_water'].fillna(transposed_dataframe['improved_water'].mean(),inplace=True)"
   ]
  },
  {
   "cell_type": "code",
   "execution_count": 263,
   "id": "53916820",
   "metadata": {},
   "outputs": [
    {
     "data": {
      "text/plain": [
       "country_name             0\n",
       "population_total         0\n",
       "health_expenditure       0\n",
       "birth_rate               0\n",
       "death_rate               0\n",
       "hiv_prevalence           0\n",
       "people_undernourished    0\n",
       "improved_sanitation      0\n",
       "improved_water           0\n",
       "dtype: int64"
      ]
     },
     "execution_count": 263,
     "metadata": {},
     "output_type": "execute_result"
    }
   ],
   "source": [
    "transposed_dataframe.isnull().sum()"
   ]
  },
  {
   "cell_type": "code",
   "execution_count": 264,
   "id": "c34a1db0",
   "metadata": {},
   "outputs": [
    {
     "data": {
      "text/html": [
       "<div>\n",
       "<style scoped>\n",
       "    .dataframe tbody tr th:only-of-type {\n",
       "        vertical-align: middle;\n",
       "    }\n",
       "\n",
       "    .dataframe tbody tr th {\n",
       "        vertical-align: top;\n",
       "    }\n",
       "\n",
       "    .dataframe thead th {\n",
       "        text-align: right;\n",
       "    }\n",
       "</style>\n",
       "<table border=\"1\" class=\"dataframe\">\n",
       "  <thead>\n",
       "    <tr style=\"text-align: right;\">\n",
       "      <th></th>\n",
       "      <th>country_name</th>\n",
       "      <th>population_total</th>\n",
       "      <th>health_expenditure</th>\n",
       "      <th>birth_rate</th>\n",
       "      <th>death_rate</th>\n",
       "      <th>hiv_prevalence</th>\n",
       "      <th>people_undernourished</th>\n",
       "      <th>improved_sanitation</th>\n",
       "      <th>improved_water</th>\n",
       "    </tr>\n",
       "  </thead>\n",
       "  <tbody>\n",
       "    <tr>\n",
       "      <th>247</th>\n",
       "      <td>United States</td>\n",
       "      <td>248675981.464286</td>\n",
       "      <td>6484.991447</td>\n",
       "      <td>15.854545</td>\n",
       "      <td>8.754545</td>\n",
       "      <td>2.434198</td>\n",
       "      <td>5.320623e+07</td>\n",
       "      <td>99.784615</td>\n",
       "      <td>98.853846</td>\n",
       "    </tr>\n",
       "    <tr>\n",
       "      <th>27</th>\n",
       "      <td>North America</td>\n",
       "      <td>275628673.660714</td>\n",
       "      <td>6191.455407</td>\n",
       "      <td>15.760728</td>\n",
       "      <td>8.607424</td>\n",
       "      <td>2.434198</td>\n",
       "      <td>5.320623e+07</td>\n",
       "      <td>99.786156</td>\n",
       "      <td>98.947696</td>\n",
       "    </tr>\n",
       "    <tr>\n",
       "      <th>229</th>\n",
       "      <td>Switzerland</td>\n",
       "      <td>6743681.071429</td>\n",
       "      <td>5970.297659</td>\n",
       "      <td>12.770909</td>\n",
       "      <td>8.929091</td>\n",
       "      <td>2.434198</td>\n",
       "      <td>5.320623e+07</td>\n",
       "      <td>99.900000</td>\n",
       "      <td>100.000000</td>\n",
       "    </tr>\n",
       "    <tr>\n",
       "      <th>187</th>\n",
       "      <td>Norway</td>\n",
       "      <td>4259531.017857</td>\n",
       "      <td>5879.860215</td>\n",
       "      <td>14.032727</td>\n",
       "      <td>9.752727</td>\n",
       "      <td>2.434198</td>\n",
       "      <td>5.320623e+07</td>\n",
       "      <td>98.100000</td>\n",
       "      <td>100.000000</td>\n",
       "    </tr>\n",
       "    <tr>\n",
       "      <th>156</th>\n",
       "      <td>Luxembourg</td>\n",
       "      <td>400394.232143</td>\n",
       "      <td>5656.812368</td>\n",
       "      <td>12.587273</td>\n",
       "      <td>10.223636</td>\n",
       "      <td>2.434198</td>\n",
       "      <td>5.320623e+07</td>\n",
       "      <td>97.680769</td>\n",
       "      <td>100.000000</td>\n",
       "    </tr>\n",
       "  </tbody>\n",
       "</table>\n",
       "</div>"
      ],
      "text/plain": [
       "      country_name  population_total  health_expenditure  birth_rate  \\\n",
       "247  United States  248675981.464286         6484.991447   15.854545   \n",
       "27   North America  275628673.660714         6191.455407   15.760728   \n",
       "229    Switzerland    6743681.071429         5970.297659   12.770909   \n",
       "187         Norway    4259531.017857         5879.860215   14.032727   \n",
       "156     Luxembourg     400394.232143         5656.812368   12.587273   \n",
       "\n",
       "     death_rate  hiv_prevalence  people_undernourished  improved_sanitation  \\\n",
       "247    8.754545        2.434198           5.320623e+07            99.784615   \n",
       "27     8.607424        2.434198           5.320623e+07            99.786156   \n",
       "229    8.929091        2.434198           5.320623e+07            99.900000   \n",
       "187    9.752727        2.434198           5.320623e+07            98.100000   \n",
       "156   10.223636        2.434198           5.320623e+07            97.680769   \n",
       "\n",
       "     improved_water  \n",
       "247       98.853846  \n",
       "27        98.947696  \n",
       "229      100.000000  \n",
       "187      100.000000  \n",
       "156      100.000000  "
      ]
     },
     "execution_count": 264,
     "metadata": {},
     "output_type": "execute_result"
    }
   ],
   "source": [
    "health_expenditures_sorted = transposed_dataframe.sort_values(by = [\"health_expenditure\"], ascending=0)[:10]\n",
    "health_expenditures_sorted.head()"
   ]
  },
  {
   "cell_type": "code",
   "execution_count": 265,
   "id": "0fe52771",
   "metadata": {},
   "outputs": [
    {
     "data": {
      "text/plain": [
       "Text(0, 0.5, 'Total population')"
      ]
     },
     "execution_count": 265,
     "metadata": {},
     "output_type": "execute_result"
    },
    {
     "data": {
      "image/png": "[encoded data removed]",
      "text/plain": [
       "<Figure size 432x288 with 1 Axes>"
      ]
     },
     "metadata": {
      "needs_background": "light"
     },
     "output_type": "display_data"
    }
   ],
   "source": [
    "model=plt.figure() #create figures\n",
    "ax=model.add_axes([0,0,1,1]) #add an axis to the figure\n",
    "\n",
    "#create a scatter plot with x,y,color and lineWidth arguments respectively\n",
    "ax.scatter(health_expenditures_sorted['health_expenditure'], health_expenditures_sorted['population_total'], color='red', lw=4) \n",
    "\n",
    "ax.set_title('Relationship of the top ten countries in terms of health expenditures per capita in US$ with respect to its population size',pad=25)\n",
    "ax.set_xlabel('Total health expenditures per capita in US$')\n",
    "ax.set_ylabel('Total population')"
   ]
  },
  {
   "cell_type": "code",
   "execution_count": 266,
   "id": "32ccd392",
   "metadata": {},
   "outputs": [
    {
     "data": {
      "text/html": [
       "<div>\n",
       "<style scoped>\n",
       "    .dataframe tbody tr th:only-of-type {\n",
       "        vertical-align: middle;\n",
       "    }\n",
       "\n",
       "    .dataframe tbody tr th {\n",
       "        vertical-align: top;\n",
       "    }\n",
       "\n",
       "    .dataframe thead th {\n",
       "        text-align: right;\n",
       "    }\n",
       "</style>\n",
       "<table border=\"1\" class=\"dataframe\">\n",
       "  <thead>\n",
       "    <tr style=\"text-align: right;\">\n",
       "      <th></th>\n",
       "      <th>country_name</th>\n",
       "      <th>population_total</th>\n",
       "      <th>health_expenditure</th>\n",
       "      <th>birth_rate</th>\n",
       "      <th>death_rate</th>\n",
       "      <th>hiv_prevalence</th>\n",
       "      <th>people_undernourished</th>\n",
       "      <th>improved_sanitation</th>\n",
       "      <th>improved_water</th>\n",
       "    </tr>\n",
       "  </thead>\n",
       "  <tbody>\n",
       "    <tr>\n",
       "      <th>184</th>\n",
       "      <td>Niger</td>\n",
       "      <td>8782314.0</td>\n",
       "      <td>17.089341</td>\n",
       "      <td>54.289945</td>\n",
       "      <td>21.549309</td>\n",
       "      <td>0.803846</td>\n",
       "      <td>2.292000e+06</td>\n",
       "      <td>7.334615</td>\n",
       "      <td>46.288462</td>\n",
       "    </tr>\n",
       "    <tr>\n",
       "      <th>46</th>\n",
       "      <td>Angola</td>\n",
       "      <td>11909433.392857</td>\n",
       "      <td>85.511281</td>\n",
       "      <td>51.781000</td>\n",
       "      <td>22.971691</td>\n",
       "      <td>1.561538</td>\n",
       "      <td>5.824000e+06</td>\n",
       "      <td>36.007692</td>\n",
       "      <td>46.453846</td>\n",
       "    </tr>\n",
       "    <tr>\n",
       "      <th>160</th>\n",
       "      <td>Malawi</td>\n",
       "      <td>8713224.75</td>\n",
       "      <td>20.433155</td>\n",
       "      <td>48.828564</td>\n",
       "      <td>19.762327</td>\n",
       "      <td>13.188462</td>\n",
       "      <td>3.628000e+06</td>\n",
       "      <td>35.334615</td>\n",
       "      <td>66.884615</td>\n",
       "    </tr>\n",
       "    <tr>\n",
       "      <th>79</th>\n",
       "      <td>Chad</td>\n",
       "      <td>6605594.303571</td>\n",
       "      <td>21.466374</td>\n",
       "      <td>48.798473</td>\n",
       "      <td>20.035745</td>\n",
       "      <td>2.569231</td>\n",
       "      <td>4.020000e+06</td>\n",
       "      <td>10.153846</td>\n",
       "      <td>45.884615</td>\n",
       "    </tr>\n",
       "    <tr>\n",
       "      <th>163</th>\n",
       "      <td>Mali</td>\n",
       "      <td>9256402.214286</td>\n",
       "      <td>29.087970</td>\n",
       "      <td>48.767491</td>\n",
       "      <td>22.960818</td>\n",
       "      <td>1.630769</td>\n",
       "      <td>1.336842e+06</td>\n",
       "      <td>19.180769</td>\n",
       "      <td>51.803846</td>\n",
       "    </tr>\n",
       "  </tbody>\n",
       "</table>\n",
       "</div>"
      ],
      "text/plain": [
       "    country_name population_total  health_expenditure  birth_rate  death_rate  \\\n",
       "184        Niger        8782314.0           17.089341   54.289945   21.549309   \n",
       "46        Angola  11909433.392857           85.511281   51.781000   22.971691   \n",
       "160       Malawi       8713224.75           20.433155   48.828564   19.762327   \n",
       "79          Chad   6605594.303571           21.466374   48.798473   20.035745   \n",
       "163         Mali   9256402.214286           29.087970   48.767491   22.960818   \n",
       "\n",
       "     hiv_prevalence  people_undernourished  improved_sanitation  \\\n",
       "184        0.803846           2.292000e+06             7.334615   \n",
       "46         1.561538           5.824000e+06            36.007692   \n",
       "160       13.188462           3.628000e+06            35.334615   \n",
       "79         2.569231           4.020000e+06            10.153846   \n",
       "163        1.630769           1.336842e+06            19.180769   \n",
       "\n",
       "     improved_water  \n",
       "184       46.288462  \n",
       "46        46.453846  \n",
       "160       66.884615  \n",
       "79        45.884615  \n",
       "163       51.803846  "
      ]
     },
     "execution_count": 266,
     "metadata": {},
     "output_type": "execute_result"
    }
   ],
   "source": [
    "birth_rate_sorted = transposed_dataframe.sort_values(by = [\"birth_rate\"], ascending=0)[:10]\n",
    "birth_rate_sorted.head()"
   ]
  },
  {
   "cell_type": "code",
   "execution_count": 267,
   "id": "633ef6c5",
   "metadata": {},
   "outputs": [
    {
     "data": {
      "text/plain": [
       "Text(0, 0.5, 'Total population')"
      ]
     },
     "execution_count": 267,
     "metadata": {},
     "output_type": "execute_result"
    },
    {
     "data": {
      "image/png": "[encoded data removed]",
      "text/plain": [
       "<Figure size 432x288 with 1 Axes>"
      ]
     },
     "metadata": {
      "needs_background": "light"
     },
     "output_type": "display_data"
    }
   ],
   "source": [
    "model=plt.figure() #create figures\n",
    "ax=model.add_axes([0,0,1,1]) #add an axis to the figure\n",
    "\n",
    "#create a scatter plot with x,y,color and lineWidth arguments respectively\n",
    "ax.scatter(birth_rate_sorted['birth_rate'], birth_rate_sorted['population_total'], color='red', lw=4) \n",
    "\n",
    "ax.set_title('Relationship of the top ten countries in terms of birth rate per 1,000 people with respect to its population size',pad=25)\n",
    "ax.set_xlabel('Birth rate per 1,000 people')\n",
    "ax.set_ylabel('Total population')"
   ]
  },
  {
   "cell_type": "code",
   "execution_count": 268,
   "id": "7a6af183",
   "metadata": {},
   "outputs": [
    {
     "data": {
      "text/html": [
       "<div>\n",
       "<style scoped>\n",
       "    .dataframe tbody tr th:only-of-type {\n",
       "        vertical-align: middle;\n",
       "    }\n",
       "\n",
       "    .dataframe tbody tr th {\n",
       "        vertical-align: top;\n",
       "    }\n",
       "\n",
       "    .dataframe thead th {\n",
       "        text-align: right;\n",
       "    }\n",
       "</style>\n",
       "<table border=\"1\" class=\"dataframe\">\n",
       "  <thead>\n",
       "    <tr style=\"text-align: right;\">\n",
       "      <th></th>\n",
       "      <th>country_name</th>\n",
       "      <th>population_total</th>\n",
       "      <th>health_expenditure</th>\n",
       "      <th>birth_rate</th>\n",
       "      <th>death_rate</th>\n",
       "      <th>hiv_prevalence</th>\n",
       "      <th>people_undernourished</th>\n",
       "      <th>improved_sanitation</th>\n",
       "      <th>improved_water</th>\n",
       "    </tr>\n",
       "  </thead>\n",
       "  <tbody>\n",
       "    <tr>\n",
       "      <th>210</th>\n",
       "      <td>Sierra Leone</td>\n",
       "      <td>3748160.892857</td>\n",
       "      <td>42.417929</td>\n",
       "      <td>44.730473</td>\n",
       "      <td>24.771800</td>\n",
       "      <td>1.007692</td>\n",
       "      <td>1.628000e+06</td>\n",
       "      <td>11.653846</td>\n",
       "      <td>49.703846</td>\n",
       "    </tr>\n",
       "    <tr>\n",
       "      <th>46</th>\n",
       "      <td>Angola</td>\n",
       "      <td>11909433.392857</td>\n",
       "      <td>85.511281</td>\n",
       "      <td>51.781000</td>\n",
       "      <td>22.971691</td>\n",
       "      <td>1.561538</td>\n",
       "      <td>5.824000e+06</td>\n",
       "      <td>36.007692</td>\n",
       "      <td>46.453846</td>\n",
       "    </tr>\n",
       "    <tr>\n",
       "      <th>163</th>\n",
       "      <td>Mali</td>\n",
       "      <td>9256402.214286</td>\n",
       "      <td>29.087970</td>\n",
       "      <td>48.767491</td>\n",
       "      <td>22.960818</td>\n",
       "      <td>1.630769</td>\n",
       "      <td>1.336842e+06</td>\n",
       "      <td>19.180769</td>\n",
       "      <td>51.803846</td>\n",
       "    </tr>\n",
       "    <tr>\n",
       "      <th>218</th>\n",
       "      <td>South Sudan</td>\n",
       "      <td>5917220.25</td>\n",
       "      <td>27.745286</td>\n",
       "      <td>46.180855</td>\n",
       "      <td>21.650691</td>\n",
       "      <td>2.073077</td>\n",
       "      <td>5.320623e+07</td>\n",
       "      <td>6.660000</td>\n",
       "      <td>58.680000</td>\n",
       "    </tr>\n",
       "    <tr>\n",
       "      <th>184</th>\n",
       "      <td>Niger</td>\n",
       "      <td>8782314.0</td>\n",
       "      <td>17.089341</td>\n",
       "      <td>54.289945</td>\n",
       "      <td>21.549309</td>\n",
       "      <td>0.803846</td>\n",
       "      <td>2.292000e+06</td>\n",
       "      <td>7.334615</td>\n",
       "      <td>46.288462</td>\n",
       "    </tr>\n",
       "  </tbody>\n",
       "</table>\n",
       "</div>"
      ],
      "text/plain": [
       "     country_name population_total  health_expenditure  birth_rate  \\\n",
       "210  Sierra Leone   3748160.892857           42.417929   44.730473   \n",
       "46         Angola  11909433.392857           85.511281   51.781000   \n",
       "163          Mali   9256402.214286           29.087970   48.767491   \n",
       "218   South Sudan       5917220.25           27.745286   46.180855   \n",
       "184         Niger        8782314.0           17.089341   54.289945   \n",
       "\n",
       "     death_rate  hiv_prevalence  people_undernourished  improved_sanitation  \\\n",
       "210   24.771800        1.007692           1.628000e+06            11.653846   \n",
       "46    22.971691        1.561538           5.824000e+06            36.007692   \n",
       "163   22.960818        1.630769           1.336842e+06            19.180769   \n",
       "218   21.650691        2.073077           5.320623e+07             6.660000   \n",
       "184   21.549309        0.803846           2.292000e+06             7.334615   \n",
       "\n",
       "     improved_water  \n",
       "210       49.703846  \n",
       "46        46.453846  \n",
       "163       51.803846  \n",
       "218       58.680000  \n",
       "184       46.288462  "
      ]
     },
     "execution_count": 268,
     "metadata": {},
     "output_type": "execute_result"
    }
   ],
   "source": [
    "death_rate_sorted = transposed_dataframe.sort_values(by = [\"death_rate\"], ascending=0)[:10]\n",
    "death_rate_sorted.head()"
   ]
  },
  {
   "cell_type": "code",
   "execution_count": 269,
   "id": "26093d0c",
   "metadata": {},
   "outputs": [
    {
     "data": {
      "text/plain": [
       "Text(0, 0.5, 'Total population')"
      ]
     },
     "execution_count": 269,
     "metadata": {},
     "output_type": "execute_result"
    },
    {
     "data": {
      "image/png": "[encoded data removed]",
      "text/plain": [
       "<Figure size 432x288 with 1 Axes>"
      ]
     },
     "metadata": {
      "needs_background": "light"
     },
     "output_type": "display_data"
    }
   ],
   "source": [
    "model=plt.figure() #create figures\n",
    "ax=model.add_axes([0,0,1,1]) #add an axis to the figure\n",
    "\n",
    "#create a scatter plot with x,y,color and lineWidth arguments respectively\n",
    "ax.scatter(death_rate_sorted['death_rate'], death_rate_sorted['population_total'], color='red', lw=4) \n",
    "\n",
    "ax.set_title('Relationship of the top ten countries in terms of death rate per 1,000 people with respect to its population size',pad=25)\n",
    "ax.set_xlabel('Death rate per 1,000 people')\n",
    "ax.set_ylabel('Total population')"
   ]
  },
  {
   "cell_type": "code",
   "execution_count": 270,
   "id": "e0da0717",
   "metadata": {},
   "outputs": [
    {
     "data": {
      "text/html": [
       "<div>\n",
       "<style scoped>\n",
       "    .dataframe tbody tr th:only-of-type {\n",
       "        vertical-align: middle;\n",
       "    }\n",
       "\n",
       "    .dataframe tbody tr th {\n",
       "        vertical-align: top;\n",
       "    }\n",
       "\n",
       "    .dataframe thead th {\n",
       "        text-align: right;\n",
       "    }\n",
       "</style>\n",
       "<table border=\"1\" class=\"dataframe\">\n",
       "  <thead>\n",
       "    <tr style=\"text-align: right;\">\n",
       "      <th></th>\n",
       "      <th>country_name</th>\n",
       "      <th>population_total</th>\n",
       "      <th>health_expenditure</th>\n",
       "      <th>birth_rate</th>\n",
       "      <th>death_rate</th>\n",
       "      <th>hiv_prevalence</th>\n",
       "      <th>people_undernourished</th>\n",
       "      <th>improved_sanitation</th>\n",
       "      <th>improved_water</th>\n",
       "    </tr>\n",
       "  </thead>\n",
       "  <tbody>\n",
       "    <tr>\n",
       "      <th>227</th>\n",
       "      <td>Swaziland</td>\n",
       "      <td>788319.732143</td>\n",
       "      <td>156.471199</td>\n",
       "      <td>41.593164</td>\n",
       "      <td>14.377927</td>\n",
       "      <td>21.657692</td>\n",
       "      <td>2.320000e+05</td>\n",
       "      <td>52.992308</td>\n",
       "      <td>56.523077</td>\n",
       "    </tr>\n",
       "    <tr>\n",
       "      <th>66</th>\n",
       "      <td>Botswana</td>\n",
       "      <td>1299510.178571</td>\n",
       "      <td>254.084496</td>\n",
       "      <td>36.665473</td>\n",
       "      <td>10.849109</td>\n",
       "      <td>21.530769</td>\n",
       "      <td>5.400000e+05</td>\n",
       "      <td>53.315385</td>\n",
       "      <td>94.792308</td>\n",
       "    </tr>\n",
       "    <tr>\n",
       "      <th>257</th>\n",
       "      <td>Zimbabwe</td>\n",
       "      <td>9383385.910714</td>\n",
       "      <td>36.516748</td>\n",
       "      <td>40.922036</td>\n",
       "      <td>13.178945</td>\n",
       "      <td>19.603846</td>\n",
       "      <td>5.092000e+06</td>\n",
       "      <td>38.703846</td>\n",
       "      <td>78.757692</td>\n",
       "    </tr>\n",
       "    <tr>\n",
       "      <th>151</th>\n",
       "      <td>Lesotho</td>\n",
       "      <td>1501897.553571</td>\n",
       "      <td>63.126560</td>\n",
       "      <td>36.487164</td>\n",
       "      <td>15.232582</td>\n",
       "      <td>17.842308</td>\n",
       "      <td>2.360000e+05</td>\n",
       "      <td>26.081818</td>\n",
       "      <td>79.457692</td>\n",
       "    </tr>\n",
       "    <tr>\n",
       "      <th>217</th>\n",
       "      <td>South Africa</td>\n",
       "      <td>34384882.964286</td>\n",
       "      <td>407.686581</td>\n",
       "      <td>30.841418</td>\n",
       "      <td>12.085273</td>\n",
       "      <td>15.100000</td>\n",
       "      <td>2.242857e+06</td>\n",
       "      <td>58.703846</td>\n",
       "      <td>87.692308</td>\n",
       "    </tr>\n",
       "  </tbody>\n",
       "</table>\n",
       "</div>"
      ],
      "text/plain": [
       "     country_name population_total  health_expenditure  birth_rate  \\\n",
       "227     Swaziland    788319.732143          156.471199   41.593164   \n",
       "66       Botswana   1299510.178571          254.084496   36.665473   \n",
       "257      Zimbabwe   9383385.910714           36.516748   40.922036   \n",
       "151       Lesotho   1501897.553571           63.126560   36.487164   \n",
       "217  South Africa  34384882.964286          407.686581   30.841418   \n",
       "\n",
       "     death_rate  hiv_prevalence  people_undernourished  improved_sanitation  \\\n",
       "227   14.377927       21.657692           2.320000e+05            52.992308   \n",
       "66    10.849109       21.530769           5.400000e+05            53.315385   \n",
       "257   13.178945       19.603846           5.092000e+06            38.703846   \n",
       "151   15.232582       17.842308           2.360000e+05            26.081818   \n",
       "217   12.085273       15.100000           2.242857e+06            58.703846   \n",
       "\n",
       "     improved_water  \n",
       "227       56.523077  \n",
       "66        94.792308  \n",
       "257       78.757692  \n",
       "151       79.457692  \n",
       "217       87.692308  "
      ]
     },
     "execution_count": 270,
     "metadata": {},
     "output_type": "execute_result"
    }
   ],
   "source": [
    "hiv_prevalence_sorted = transposed_dataframe.sort_values(by = [\"hiv_prevalence\"], ascending=0)[:10]\n",
    "hiv_prevalence_sorted.head()"
   ]
  },
  {
   "cell_type": "code",
   "execution_count": 271,
   "id": "610977d4",
   "metadata": {},
   "outputs": [
    {
     "data": {
      "text/plain": [
       "Text(0, 0.5, 'Total population')"
      ]
     },
     "execution_count": 271,
     "metadata": {},
     "output_type": "execute_result"
    },
    {
     "data": {
      "image/png": "[encoded data removed]",
      "text/plain": [
       "<Figure size 432x288 with 1 Axes>"
      ]
     },
     "metadata": {
      "needs_background": "light"
     },
     "output_type": "display_data"
    }
   ],
   "source": [
    "model=plt.figure() #create figures\n",
    "ax=model.add_axes([0,0,1,1]) #add an axis to the figure\n",
    "\n",
    "#create a scatter plot with x,y,color and lineWidth arguments respectively\n",
    "ax.scatter(hiv_prevalence_sorted['hiv_prevalence'], hiv_prevalence_sorted['population_total'], color='red', lw=4) \n",
    "\n",
    "ax.set_title('Relationship of the top ten countries in terms of the percent of population ages 15-49 with prevalence of HIV with respect to its population size',pad=25)\n",
    "ax.set_xlabel('Percent of population ages 15-49 with prevalence of HIV')\n",
    "ax.set_ylabel('Total population')"
   ]
  },
  {
   "cell_type": "code",
   "execution_count": 272,
   "id": "2ce5270a",
   "metadata": {},
   "outputs": [
    {
     "data": {
      "text/html": [
       "<div>\n",
       "<style scoped>\n",
       "    .dataframe tbody tr th:only-of-type {\n",
       "        vertical-align: middle;\n",
       "    }\n",
       "\n",
       "    .dataframe tbody tr th {\n",
       "        vertical-align: top;\n",
       "    }\n",
       "\n",
       "    .dataframe thead th {\n",
       "        text-align: right;\n",
       "    }\n",
       "</style>\n",
       "<table border=\"1\" class=\"dataframe\">\n",
       "  <thead>\n",
       "    <tr style=\"text-align: right;\">\n",
       "      <th></th>\n",
       "      <th>country_name</th>\n",
       "      <th>population_total</th>\n",
       "      <th>health_expenditure</th>\n",
       "      <th>birth_rate</th>\n",
       "      <th>death_rate</th>\n",
       "      <th>hiv_prevalence</th>\n",
       "      <th>people_undernourished</th>\n",
       "      <th>improved_sanitation</th>\n",
       "      <th>improved_water</th>\n",
       "    </tr>\n",
       "  </thead>\n",
       "  <tbody>\n",
       "    <tr>\n",
       "      <th>40</th>\n",
       "      <td>World</td>\n",
       "      <td>5098646063.232142</td>\n",
       "      <td>715.979256</td>\n",
       "      <td>26.286071</td>\n",
       "      <td>10.156247</td>\n",
       "      <td>0.707692</td>\n",
       "      <td>918920000.0</td>\n",
       "      <td>60.260799</td>\n",
       "      <td>83.855459</td>\n",
       "    </tr>\n",
       "    <tr>\n",
       "      <th>20</th>\n",
       "      <td>Low &amp; middle income</td>\n",
       "      <td>4115951628.696429</td>\n",
       "      <td>126.970182</td>\n",
       "      <td>29.232659</td>\n",
       "      <td>10.546984</td>\n",
       "      <td>2.434198</td>\n",
       "      <td>832656000.0</td>\n",
       "      <td>52.327260</td>\n",
       "      <td>80.694065</td>\n",
       "    </tr>\n",
       "    <tr>\n",
       "      <th>26</th>\n",
       "      <td>Middle income</td>\n",
       "      <td>3780944378.517857</td>\n",
       "      <td>137.118716</td>\n",
       "      <td>27.959380</td>\n",
       "      <td>10.022173</td>\n",
       "      <td>2.434198</td>\n",
       "      <td>702172000.0</td>\n",
       "      <td>55.246593</td>\n",
       "      <td>83.143793</td>\n",
       "    </tr>\n",
       "    <tr>\n",
       "      <th>3</th>\n",
       "      <td>Early-demographic dividend</td>\n",
       "      <td>1960044504.642857</td>\n",
       "      <td>103.166640</td>\n",
       "      <td>33.164735</td>\n",
       "      <td>11.484921</td>\n",
       "      <td>2.434198</td>\n",
       "      <td>439496000.0</td>\n",
       "      <td>46.446371</td>\n",
       "      <td>82.340853</td>\n",
       "    </tr>\n",
       "    <tr>\n",
       "      <th>22</th>\n",
       "      <td>Lower middle income</td>\n",
       "      <td>1845908403.910714</td>\n",
       "      <td>45.800991</td>\n",
       "      <td>33.239963</td>\n",
       "      <td>12.021722</td>\n",
       "      <td>2.434198</td>\n",
       "      <td>426524000.0</td>\n",
       "      <td>41.296171</td>\n",
       "      <td>79.888581</td>\n",
       "    </tr>\n",
       "  </tbody>\n",
       "</table>\n",
       "</div>"
      ],
      "text/plain": [
       "                  country_name   population_total  health_expenditure  \\\n",
       "40                       World  5098646063.232142          715.979256   \n",
       "20         Low & middle income  4115951628.696429          126.970182   \n",
       "26               Middle income  3780944378.517857          137.118716   \n",
       "3   Early-demographic dividend  1960044504.642857          103.166640   \n",
       "22         Lower middle income  1845908403.910714           45.800991   \n",
       "\n",
       "    birth_rate  death_rate  hiv_prevalence  people_undernourished  \\\n",
       "40   26.286071   10.156247        0.707692            918920000.0   \n",
       "20   29.232659   10.546984        2.434198            832656000.0   \n",
       "26   27.959380   10.022173        2.434198            702172000.0   \n",
       "3    33.164735   11.484921        2.434198            439496000.0   \n",
       "22   33.239963   12.021722        2.434198            426524000.0   \n",
       "\n",
       "    improved_sanitation  improved_water  \n",
       "40            60.260799       83.855459  \n",
       "20            52.327260       80.694065  \n",
       "26            55.246593       83.143793  \n",
       "3             46.446371       82.340853  \n",
       "22            41.296171       79.888581  "
      ]
     },
     "execution_count": 272,
     "metadata": {},
     "output_type": "execute_result"
    }
   ],
   "source": [
    "people_undernourished_sorted = transposed_dataframe.sort_values(by = [\"people_undernourished\"], ascending=0)[:10]\n",
    "people_undernourished_sorted.head()"
   ]
  },
  {
   "cell_type": "code",
   "execution_count": 273,
   "id": "50f8dae3",
   "metadata": {},
   "outputs": [
    {
     "data": {
      "text/plain": [
       "Text(0, 0.5, 'Total population')"
      ]
     },
     "execution_count": 273,
     "metadata": {},
     "output_type": "execute_result"
    },
    {
     "data": {
      "image/png": "[encoded data removed]",
      "text/plain": [
       "<Figure size 432x288 with 1 Axes>"
      ]
     },
     "metadata": {
      "needs_background": "light"
     },
     "output_type": "display_data"
    }
   ],
   "source": [
    "model=plt.figure() #create figures\n",
    "ax=model.add_axes([0,0,1,1]) #add an axis to the figure\n",
    "\n",
    "#create a scatter plot with x,y,color and lineWidth arguments respectively\n",
    "ax.scatter(people_undernourished_sorted['people_undernourished'], people_undernourished_sorted['population_total'], color='red', lw=4) \n",
    "\n",
    "ax.set_title('Relationship of the top ten countries in terms of the number of people who are undernourished with respect to its population size',pad=25)\n",
    "ax.set_xlabel('Number of people who are undernourished')\n",
    "ax.set_ylabel('Total population')"
   ]
  },
  {
   "cell_type": "code",
   "execution_count": 274,
   "id": "94707fdf",
   "metadata": {},
   "outputs": [
    {
     "data": {
      "text/html": [
       "<div>\n",
       "<style scoped>\n",
       "    .dataframe tbody tr th:only-of-type {\n",
       "        vertical-align: middle;\n",
       "    }\n",
       "\n",
       "    .dataframe tbody tr th {\n",
       "        vertical-align: top;\n",
       "    }\n",
       "\n",
       "    .dataframe thead th {\n",
       "        text-align: right;\n",
       "    }\n",
       "</style>\n",
       "<table border=\"1\" class=\"dataframe\">\n",
       "  <thead>\n",
       "    <tr style=\"text-align: right;\">\n",
       "      <th></th>\n",
       "      <th>country_name</th>\n",
       "      <th>population_total</th>\n",
       "      <th>health_expenditure</th>\n",
       "      <th>birth_rate</th>\n",
       "      <th>death_rate</th>\n",
       "      <th>hiv_prevalence</th>\n",
       "      <th>people_undernourished</th>\n",
       "      <th>improved_sanitation</th>\n",
       "      <th>improved_water</th>\n",
       "    </tr>\n",
       "  </thead>\n",
       "  <tbody>\n",
       "    <tr>\n",
       "      <th>218</th>\n",
       "      <td>South Sudan</td>\n",
       "      <td>5917220.25</td>\n",
       "      <td>27.745286</td>\n",
       "      <td>46.180855</td>\n",
       "      <td>21.650691</td>\n",
       "      <td>2.073077</td>\n",
       "      <td>5.320623e+07</td>\n",
       "      <td>6.660000</td>\n",
       "      <td>58.680000</td>\n",
       "    </tr>\n",
       "    <tr>\n",
       "      <th>184</th>\n",
       "      <td>Niger</td>\n",
       "      <td>8782314.0</td>\n",
       "      <td>17.089341</td>\n",
       "      <td>54.289945</td>\n",
       "      <td>21.549309</td>\n",
       "      <td>0.803846</td>\n",
       "      <td>2.292000e+06</td>\n",
       "      <td>7.334615</td>\n",
       "      <td>46.288462</td>\n",
       "    </tr>\n",
       "    <tr>\n",
       "      <th>79</th>\n",
       "      <td>Chad</td>\n",
       "      <td>6605594.303571</td>\n",
       "      <td>21.466374</td>\n",
       "      <td>48.798473</td>\n",
       "      <td>20.035745</td>\n",
       "      <td>2.569231</td>\n",
       "      <td>4.020000e+06</td>\n",
       "      <td>10.153846</td>\n",
       "      <td>45.884615</td>\n",
       "    </tr>\n",
       "    <tr>\n",
       "      <th>232</th>\n",
       "      <td>Tanzania</td>\n",
       "      <td>26200079.875</td>\n",
       "      <td>23.298979</td>\n",
       "      <td>44.909400</td>\n",
       "      <td>14.892982</td>\n",
       "      <td>6.500000</td>\n",
       "      <td>1.282800e+07</td>\n",
       "      <td>10.442308</td>\n",
       "      <td>54.638462</td>\n",
       "    </tr>\n",
       "    <tr>\n",
       "      <th>159</th>\n",
       "      <td>Madagascar</td>\n",
       "      <td>12155601.839286</td>\n",
       "      <td>15.064928</td>\n",
       "      <td>43.607182</td>\n",
       "      <td>15.148818</td>\n",
       "      <td>0.369231</td>\n",
       "      <td>5.868000e+06</td>\n",
       "      <td>10.603846</td>\n",
       "      <td>40.315385</td>\n",
       "    </tr>\n",
       "  </tbody>\n",
       "</table>\n",
       "</div>"
      ],
      "text/plain": [
       "    country_name population_total  health_expenditure  birth_rate  death_rate  \\\n",
       "218  South Sudan       5917220.25           27.745286   46.180855   21.650691   \n",
       "184        Niger        8782314.0           17.089341   54.289945   21.549309   \n",
       "79          Chad   6605594.303571           21.466374   48.798473   20.035745   \n",
       "232     Tanzania     26200079.875           23.298979   44.909400   14.892982   \n",
       "159   Madagascar  12155601.839286           15.064928   43.607182   15.148818   \n",
       "\n",
       "     hiv_prevalence  people_undernourished  improved_sanitation  \\\n",
       "218        2.073077           5.320623e+07             6.660000   \n",
       "184        0.803846           2.292000e+06             7.334615   \n",
       "79         2.569231           4.020000e+06            10.153846   \n",
       "232        6.500000           1.282800e+07            10.442308   \n",
       "159        0.369231           5.868000e+06            10.603846   \n",
       "\n",
       "     improved_water  \n",
       "218       58.680000  \n",
       "184       46.288462  \n",
       "79        45.884615  \n",
       "232       54.638462  \n",
       "159       40.315385  "
      ]
     },
     "execution_count": 274,
     "metadata": {},
     "output_type": "execute_result"
    }
   ],
   "source": [
    "improved_sanitation_sorted = transposed_dataframe.sort_values(by = [\"improved_sanitation\"], ascending=1)[:10]\n",
    "improved_sanitation_sorted.head()"
   ]
  },
  {
   "cell_type": "code",
   "execution_count": 275,
   "id": "5b849e17",
   "metadata": {},
   "outputs": [
    {
     "data": {
      "text/plain": [
       "Text(0, 0.5, 'Total population')"
      ]
     },
     "execution_count": 275,
     "metadata": {},
     "output_type": "execute_result"
    },
    {
     "data": {
      "image/png": "[encoded data removed]",
      "text/plain": [
       "<Figure size 432x288 with 1 Axes>"
      ]
     },
     "metadata": {
      "needs_background": "light"
     },
     "output_type": "display_data"
    }
   ],
   "source": [
    "model=plt.figure() #create figures\n",
    "ax=model.add_axes([0,0,1,1]) #add an axis to the figure\n",
    "\n",
    "#create a scatter plot with x,y,color and lineWidth arguments respectively\n",
    "ax.scatter(improved_sanitation_sorted['improved_sanitation'], improved_sanitation_sorted['population_total'], color='red', lw=4) \n",
    "\n",
    "ax.set_title('Relationship of the bottom ten countries in terms of the percent of population with access to improved sanitation facilities with respect to its population size',pad=25)\n",
    "ax.set_xlabel('Percent of population with access to improved sanitation facilities')\n",
    "ax.set_ylabel('Total population')"
   ]
  },
  {
   "cell_type": "code",
   "execution_count": 276,
   "id": "92c04756",
   "metadata": {},
   "outputs": [
    {
     "data": {
      "text/html": [
       "<div>\n",
       "<style scoped>\n",
       "    .dataframe tbody tr th:only-of-type {\n",
       "        vertical-align: middle;\n",
       "    }\n",
       "\n",
       "    .dataframe tbody tr th {\n",
       "        vertical-align: top;\n",
       "    }\n",
       "\n",
       "    .dataframe thead th {\n",
       "        text-align: right;\n",
       "    }\n",
       "</style>\n",
       "<table border=\"1\" class=\"dataframe\">\n",
       "  <thead>\n",
       "    <tr style=\"text-align: right;\">\n",
       "      <th></th>\n",
       "      <th>country_name</th>\n",
       "      <th>population_total</th>\n",
       "      <th>health_expenditure</th>\n",
       "      <th>birth_rate</th>\n",
       "      <th>death_rate</th>\n",
       "      <th>hiv_prevalence</th>\n",
       "      <th>people_undernourished</th>\n",
       "      <th>improved_sanitation</th>\n",
       "      <th>improved_water</th>\n",
       "    </tr>\n",
       "  </thead>\n",
       "  <tbody>\n",
       "    <tr>\n",
       "      <th>216</th>\n",
       "      <td>Somalia</td>\n",
       "      <td>6133304.107143</td>\n",
       "      <td>739.425813</td>\n",
       "      <td>46.950091</td>\n",
       "      <td>19.130764</td>\n",
       "      <td>0.480769</td>\n",
       "      <td>5.320623e+07</td>\n",
       "      <td>22.163158</td>\n",
       "      <td>25.794737</td>\n",
       "    </tr>\n",
       "    <tr>\n",
       "      <th>104</th>\n",
       "      <td>Ethiopia</td>\n",
       "      <td>50898994.035714</td>\n",
       "      <td>11.235143</td>\n",
       "      <td>44.987873</td>\n",
       "      <td>17.457545</td>\n",
       "      <td>2.434198</td>\n",
       "      <td>3.613600e+07</td>\n",
       "      <td>12.765385</td>\n",
       "      <td>33.792308</td>\n",
       "    </tr>\n",
       "    <tr>\n",
       "      <th>41</th>\n",
       "      <td>Afghanistan</td>\n",
       "      <td>16430077.035714</td>\n",
       "      <td>36.729070</td>\n",
       "      <td>48.142291</td>\n",
       "      <td>18.860818</td>\n",
       "      <td>0.100000</td>\n",
       "      <td>7.956000e+06</td>\n",
       "      <td>25.396000</td>\n",
       "      <td>36.228000</td>\n",
       "    </tr>\n",
       "    <tr>\n",
       "      <th>192</th>\n",
       "      <td>Papua New Guinea</td>\n",
       "      <td>4212827.375</td>\n",
       "      <td>52.426680</td>\n",
       "      <td>37.311564</td>\n",
       "      <td>12.629964</td>\n",
       "      <td>0.650000</td>\n",
       "      <td>5.320623e+07</td>\n",
       "      <td>19.303846</td>\n",
       "      <td>36.384615</td>\n",
       "    </tr>\n",
       "    <tr>\n",
       "      <th>159</th>\n",
       "      <td>Madagascar</td>\n",
       "      <td>12155601.839286</td>\n",
       "      <td>15.064928</td>\n",
       "      <td>43.607182</td>\n",
       "      <td>15.148818</td>\n",
       "      <td>0.369231</td>\n",
       "      <td>5.868000e+06</td>\n",
       "      <td>10.603846</td>\n",
       "      <td>40.315385</td>\n",
       "    </tr>\n",
       "  </tbody>\n",
       "</table>\n",
       "</div>"
      ],
      "text/plain": [
       "         country_name population_total  health_expenditure  birth_rate  \\\n",
       "216           Somalia   6133304.107143          739.425813   46.950091   \n",
       "104          Ethiopia  50898994.035714           11.235143   44.987873   \n",
       "41        Afghanistan  16430077.035714           36.729070   48.142291   \n",
       "192  Papua New Guinea      4212827.375           52.426680   37.311564   \n",
       "159        Madagascar  12155601.839286           15.064928   43.607182   \n",
       "\n",
       "     death_rate  hiv_prevalence  people_undernourished  improved_sanitation  \\\n",
       "216   19.130764        0.480769           5.320623e+07            22.163158   \n",
       "104   17.457545        2.434198           3.613600e+07            12.765385   \n",
       "41    18.860818        0.100000           7.956000e+06            25.396000   \n",
       "192   12.629964        0.650000           5.320623e+07            19.303846   \n",
       "159   15.148818        0.369231           5.868000e+06            10.603846   \n",
       "\n",
       "     improved_water  \n",
       "216       25.794737  \n",
       "104       33.792308  \n",
       "41        36.228000  \n",
       "192       36.384615  \n",
       "159       40.315385  "
      ]
     },
     "execution_count": 276,
     "metadata": {},
     "output_type": "execute_result"
    }
   ],
   "source": [
    "improved_water_sorted = transposed_dataframe.sort_values(by = [\"improved_water\"], ascending=1)[:10]\n",
    "improved_water_sorted.head()"
   ]
  },
  {
   "cell_type": "code",
   "execution_count": 277,
   "id": "4e4a8394",
   "metadata": {},
   "outputs": [
    {
     "data": {
      "text/plain": [
       "Text(0, 0.5, 'Total population')"
      ]
     },
     "execution_count": 277,
     "metadata": {},
     "output_type": "execute_result"
    },
    {
     "data": {
      "image/png": "[encoded data removed]",
      "text/plain": [
       "<Figure size 432x288 with 1 Axes>"
      ]
     },
     "metadata": {
      "needs_background": "light"
     },
     "output_type": "display_data"
    }
   ],
   "source": [
    "model=plt.figure() #create figures\n",
    "ax=model.add_axes([0,0,1,1]) #add an axis to the figure\n",
    "\n",
    "#create a scatter plot with x,y,color and lineWidth arguments respectively\n",
    "ax.scatter(improved_water_sorted['improved_water'], improved_water_sorted['population_total'], color='red', lw=4) \n",
    "\n",
    "ax.set_title('Relationship of the bottom ten countries in terms of the percent of population with access to an improved water source with respect to its population size',pad=25)\n",
    "ax.set_xlabel('Percent of population with access to an improved water source')\n",
    "ax.set_ylabel('Total population')"
   ]
  },
  {
   "cell_type": "code",
   "execution_count": 278,
   "id": "60de0196",
   "metadata": {},
   "outputs": [
    {
     "data": {
      "text/plain": [
       "(172, 7)"
      ]
     },
     "execution_count": 278,
     "metadata": {},
     "output_type": "execute_result"
    }
   ],
   "source": [
    "#fit data into a linear regression model\n",
    "X=transposed_dataframe[['health_expenditure','birth_rate','death_rate','hiv_prevalence','people_undernourished','improved_sanitation','improved_water']]\n",
    "Y=transposed_dataframe['population_total']\n",
    "\n",
    "from sklearn.model_selection import train_test_split #split data into training and test data\n",
    "X_train, X_test, Y_train, Y_test =train_test_split(X,Y, test_size=0.33, random_state=101)\n",
    "\n",
    "X_train.shape #number of X training data"
   ]
  },
  {
   "cell_type": "code",
   "execution_count": 279,
   "id": "ee050823",
   "metadata": {},
   "outputs": [
    {
     "data": {
      "text/plain": [
       "LinearRegression()"
      ]
     },
     "execution_count": 279,
     "metadata": {},
     "output_type": "execute_result"
    }
   ],
   "source": [
    "from sklearn.linear_model import LinearRegression\n",
    "regr = LinearRegression()\n",
    "regr.fit(X_train, Y_train) #fit the linear  model"
   ]
  },
  {
   "cell_type": "code",
   "execution_count": 280,
   "id": "38e64ea9",
   "metadata": {},
   "outputs": [
    {
     "name": "stdout",
     "output_type": "stream",
     "text": [
      "-466234724.4309384\n"
     ]
    }
   ],
   "source": [
    "intercept = regr.intercept_\n",
    "print(intercept) #Independent term in the linear model."
   ]
  },
  {
   "cell_type": "code",
   "execution_count": 281,
   "id": "46082082",
   "metadata": {},
   "outputs": [
    {
     "data": {
      "text/plain": [
       "array([ 2.18942612e+04,  7.44569094e+06, -2.11969116e+06, -8.50973941e+05,\n",
       "        5.10732872e+00,  6.20108052e+05,  1.53104191e+06])"
      ]
     },
     "execution_count": 281,
     "metadata": {},
     "output_type": "execute_result"
    }
   ],
   "source": [
    "coef = regr.coef_\n",
    "coef #Estimated coefficients for the linear regression problem"
   ]
  },
  {
   "cell_type": "code",
   "execution_count": 282,
   "id": "813d1a53",
   "metadata": {},
   "outputs": [
    {
     "name": "stdout",
     "output_type": "stream",
     "text": [
      "0      4.421753e+07\n",
      "1     -8.025366e+07\n",
      "2      9.960813e+07\n",
      "3      2.156062e+09\n",
      "4      1.514022e+09\n",
      "           ...     \n",
      "253    1.876681e+08\n",
      "254    2.819974e+08\n",
      "255   -2.399366e+06\n",
      "256   -2.797710e+07\n",
      "257   -3.477163e+07\n",
      "Length: 258, dtype: float64\n"
     ]
    }
   ],
   "source": [
    "y_pred = intercept + np.sum(coef * X, axis=1)\n",
    "print(y_pred)"
   ]
  },
  {
   "cell_type": "code",
   "execution_count": 283,
   "id": "790491e4",
   "metadata": {},
   "outputs": [
    {
     "name": "stdout",
     "output_type": "stream",
     "text": [
      " Accuracy of the model is 87.30\n"
     ]
    }
   ],
   "source": [
    "y_true = transposed_dataframe['population_total']\n",
    "Accuracy=r2_score(y_true,y_pred)*100\n",
    "print(\" Accuracy of the model is %.2f\" %Accuracy)"
   ]
  },
  {
   "cell_type": "code",
   "execution_count": 284,
   "id": "9c07ce5a",
   "metadata": {},
   "outputs": [
    {
     "data": {
      "text/plain": [
       "Text(0, 0.5, 'Predicted')"
      ]
     },
     "execution_count": 284,
     "metadata": {},
     "output_type": "execute_result"
    },
    {
     "data": {
      "image/png": "[encoded data removed]",
      "text/plain": [
       "<Figure size 432x288 with 1 Axes>"
      ]
     },
     "metadata": {
      "needs_background": "light"
     },
     "output_type": "display_data"
    }
   ],
   "source": [
    "plt.scatter(y_true,y_pred)\n",
    "plt.xlabel('Actual')\n",
    "plt.ylabel('Predicted')"
   ]
  },
  {
   "cell_type": "code",
   "execution_count": 285,
   "id": "7bc2a6be",
   "metadata": {},
   "outputs": [
    {
     "data": {
      "text/html": [
       "<div>\n",
       "<style scoped>\n",
       "    .dataframe tbody tr th:only-of-type {\n",
       "        vertical-align: middle;\n",
       "    }\n",
       "\n",
       "    .dataframe tbody tr th {\n",
       "        vertical-align: top;\n",
       "    }\n",
       "\n",
       "    .dataframe thead th {\n",
       "        text-align: right;\n",
       "    }\n",
       "</style>\n",
       "<table border=\"1\" class=\"dataframe\">\n",
       "  <thead>\n",
       "    <tr style=\"text-align: right;\">\n",
       "      <th></th>\n",
       "      <th>Actual Value</th>\n",
       "      <th>Predicted Value</th>\n",
       "      <th>Difference</th>\n",
       "    </tr>\n",
       "  </thead>\n",
       "  <tbody>\n",
       "    <tr>\n",
       "      <th>0</th>\n",
       "      <td>217321665.821429</td>\n",
       "      <td>4.421753e+07</td>\n",
       "      <td>173104135.599911</td>\n",
       "    </tr>\n",
       "    <tr>\n",
       "      <th>1</th>\n",
       "      <td>5783630.321429</td>\n",
       "      <td>-8.025366e+07</td>\n",
       "      <td>86037288.202798</td>\n",
       "    </tr>\n",
       "    <tr>\n",
       "      <th>2</th>\n",
       "      <td>104477717.267857</td>\n",
       "      <td>9.960813e+07</td>\n",
       "      <td>4869587.871601</td>\n",
       "    </tr>\n",
       "    <tr>\n",
       "      <th>3</th>\n",
       "      <td>1960044504.642857</td>\n",
       "      <td>2.156062e+09</td>\n",
       "      <td>-196017580.357608</td>\n",
       "    </tr>\n",
       "    <tr>\n",
       "      <th>4</th>\n",
       "      <td>1717731046.714286</td>\n",
       "      <td>1.514022e+09</td>\n",
       "      <td>203708805.918898</td>\n",
       "    </tr>\n",
       "    <tr>\n",
       "      <th>...</th>\n",
       "      <td>...</td>\n",
       "      <td>...</td>\n",
       "      <td>...</td>\n",
       "    </tr>\n",
       "    <tr>\n",
       "      <th>253</th>\n",
       "      <td>91255.892857</td>\n",
       "      <td>1.876681e+08</td>\n",
       "      <td>-187576799.077537</td>\n",
       "    </tr>\n",
       "    <tr>\n",
       "      <th>254</th>\n",
       "      <td>3146625.384615</td>\n",
       "      <td>2.819974e+08</td>\n",
       "      <td>-278850770.69965</td>\n",
       "    </tr>\n",
       "    <tr>\n",
       "      <th>255</th>\n",
       "      <td>12901398.982143</td>\n",
       "      <td>-2.399366e+06</td>\n",
       "      <td>15300765.472123</td>\n",
       "    </tr>\n",
       "    <tr>\n",
       "      <th>256</th>\n",
       "      <td>8126050.928571</td>\n",
       "      <td>-2.797710e+07</td>\n",
       "      <td>36103147.115373</td>\n",
       "    </tr>\n",
       "    <tr>\n",
       "      <th>257</th>\n",
       "      <td>9383385.910714</td>\n",
       "      <td>-3.477163e+07</td>\n",
       "      <td>44155011.789114</td>\n",
       "    </tr>\n",
       "  </tbody>\n",
       "</table>\n",
       "<p>258 rows × 3 columns</p>\n",
       "</div>"
      ],
      "text/plain": [
       "          Actual Value  Predicted Value        Difference\n",
       "0     217321665.821429     4.421753e+07  173104135.599911\n",
       "1       5783630.321429    -8.025366e+07   86037288.202798\n",
       "2     104477717.267857     9.960813e+07    4869587.871601\n",
       "3    1960044504.642857     2.156062e+09 -196017580.357608\n",
       "4    1717731046.714286     1.514022e+09  203708805.918898\n",
       "..                 ...              ...               ...\n",
       "253       91255.892857     1.876681e+08 -187576799.077537\n",
       "254     3146625.384615     2.819974e+08  -278850770.69965\n",
       "255    12901398.982143    -2.399366e+06   15300765.472123\n",
       "256     8126050.928571    -2.797710e+07   36103147.115373\n",
       "257     9383385.910714    -3.477163e+07   44155011.789114\n",
       "\n",
       "[258 rows x 3 columns]"
      ]
     },
     "execution_count": 285,
     "metadata": {},
     "output_type": "execute_result"
    }
   ],
   "source": [
    "pred_df=pd.DataFrame({'Actual Value':y_true,'Predicted Value':y_pred,'Difference':y_true-y_pred})\n",
    "pred_df"
   ]
  },
  {
   "cell_type": "code",
   "execution_count": 294,
   "id": "3c63f768",
   "metadata": {},
   "outputs": [
    {
     "data": {
      "image/png": "[encoded data removed]",
      "text/plain": [
       "<Figure size 720x720 with 1 Axes>"
      ]
     },
     "metadata": {},
     "output_type": "display_data"
    }
   ],
   "source": [
    "plt.figure(figsize=(10,10))\n",
    "plt.scatter(y_true, y_pred, c='crimson')\n",
    "plt.yscale('log')\n",
    "plt.xscale('log')\n",
    "\n",
    "p1 = max(max(y_pred), max(y_true))\n",
    "p2 = min(min(y_pred), min(y_true))\n",
    "plt.plot([p1, p2], [p1, p2], 'b-')\n",
    "plt.xlabel('True Values', fontsize=15)\n",
    "plt.ylabel('Predictions', fontsize=15)\n",
    "plt.axis('equal')\n",
    "plt.show()"
   ]
  },
  {
   "cell_type": "code",
   "execution_count": null,
   "id": "00264c96",
   "metadata": {},
   "outputs": [],
   "source": []
  }
 ],
 "metadata": {
  "kernelspec": {
   "display_name": "Python 3 (ipykernel)",
   "language": "python",
   "name": "python3"
  },
  "language_info": {
   "codemirror_mode": {
    "name": "ipython",
    "version": 3
   },
   "file_extension": ".py",
   "mimetype": "text/x-python",
   "name": "python",
   "nbconvert_exporter": "python",
   "pygments_lexer": "ipython3",
   "version": "3.9.12"
  }
 },
 "nbformat": 4,
 "nbformat_minor": 5
}
